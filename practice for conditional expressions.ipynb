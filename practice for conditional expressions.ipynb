{
 "cells": [
  {
   "cell_type": "markdown",
   "id": "a57c4a30",
   "metadata": {},
   "source": [
    "#largest number is"
   ]
  },
  {
   "cell_type": "markdown",
   "id": "784a01fd",
   "metadata": {},
   "source": [
    "a= int(input(\"enter first number:  \"))\n",
    "b= int(input(\"enter second number:  \"))\n",
    "c= int(input(\"enter third number:  \"))\n",
    "d= int(input(\"enter fourt number:  \"))\n",
    "if(a>b and a>c and a>d):\n",
    "    print(\"largest is\", a)\n",
    "elif(b>a and b>c and b>d):\n",
    "    print(\"largest is\", b)\n",
    "elif(c>a and c>b and c>d):\n",
    "\n",
    "    print(\"largest is\", c)\n",
    "else:\n",
    "    print(\"largest is\", d)"
   ]
  },
  {
   "cell_type": "markdown",
   "id": "8c17f5c9",
   "metadata": {},
   "source": [
    "a= int(input(\"enter first number:  \"))\n",
    "b= int(input(\"enter second number:  \"))\n",
    "c= int(input(\"enter third number:  \"))\n",
    "d= int(input(\"enter fourt number:  \"))\n",
    "if(a>b):\n",
    "    v1=a\n",
    "else:\n",
    "    v1=b\n",
    "if(c>d):\n",
    "    v2=c\n",
    "else:\n",
    "    v2=d\n",
    "if(v1>v2):\n",
    "    print(\"largest is:  \", v1)\n",
    "else:\n",
    "    print(\"largest is:  \", v2)"
   ]
  },
  {
   "cell_type": "markdown",
   "id": "6cdb5685",
   "metadata": {},
   "source": [
    "h= int(input(\"marks obtained in hindi:  \"))\n",
    "e= int(input(\"marks obtained in english:  \"))\n",
    "m= int(input(\"marks obtained in math:  \"))\n",
    "s= int(input(\"marks obtained in science:  \"))\n",
    "mf= (75)\n",
    "mf=int(mf)\n",
    "    \n",
    "h=h*100/mf\n",
    "e=e*100/mf\n",
    "m=m*100/mf\n",
    "s=s*100/mf\n",
    "print(\"total marks is\",h+e+m+s)\n",
    "tp=(h+e+m+s)*100/300\n",
    "\n",
    "print(\"percentage:  \",tp)\n",
    "if(tp>=40 and e>=33 and h>=33 and s>=33 and m>=33):\n",
    "    print(\"congratulations ! You are pass\")\n",
    "else:\n",
    "    print(\"sorry you are fail, all the best for next time\")"
   ]
  },
  {
   "cell_type": "code",
   "execution_count": null,
   "id": "aab0ae17",
   "metadata": {},
   "outputs": [],
   "source": [
    "\n",
    "\n",
    "\n"
   ]
  },
  {
   "cell_type": "markdown",
   "id": "56d8edc3",
   "metadata": {},
   "source": [
    "h= int(input(\"marks obtained in hindi:  \"))\n",
    "e= int(input(\"marks obtained in english:  \"))\n",
    "m= int(input(\"marks obtained in math:  \"))\n",
    "s= int(input(\"marks obtained in science:  \"))\n",
    "\n",
    "if(h<33 or e<33 or m<33 or s<33):\n",
    "    print(\"sorry! you are failed due to less than 33% marks in single subject\")\n",
    "elif(((h+e+m+s)*100/400)<40):\n",
    "    print(\"sorry! you are failed due to less than 40% aggregate marks \" )\n",
    "else:\n",
    "    print(\"Congratulations! you are paas\")"
   ]
  },
  {
   "cell_type": "code",
   "execution_count": 3,
   "id": "a2b4cb87",
   "metadata": {},
   "outputs": [
    {
     "name": "stdout",
     "output_type": "stream",
     "text": [
      "make a lot of money by using thius\n"
     ]
    }
   ],
   "source": [
    "a=input(\"\")"
   ]
  },
  {
   "cell_type": "code",
   "execution_count": 5,
   "id": "4f00c01f",
   "metadata": {},
   "outputs": [
    {
     "name": "stdout",
     "output_type": "stream",
     "text": [
      "True\n"
     ]
    }
   ],
   "source": [
    "\n",
    " print(\"make a lot of money\" in a or 'buy now' in a or 'suscribe this' in a or'buy now'in a or \"click this\"in a)\n"
   ]
  },
  {
   "cell_type": "code",
   "execution_count": null,
   "id": "d3de3840",
   "metadata": {},
   "outputs": [],
   "source": [
    "a=input(\"\")\n",
    "if(len(a)>=10):\n",
    "    print(a)\n",
    "else:\n",
    "    print(\"enter vailid user name, must contain 10 or more cheracters\")"
   ]
  },
  {
   "cell_type": "code",
   "execution_count": null,
   "id": "4a07341c",
   "metadata": {},
   "outputs": [],
   "source": [
    "l1=[\"lovely\", \"sunny\", \"komal\", \"harry\",\"harjas\", \"preet\"]\n",
    "a=input(\"enter your name:  \")\n",
    "if a in l1:\n",
    "    print(a,\"  : your name is present\")\n",
    "else:\n",
    "    print(\"add your name:  \")\n",
    "  \n",
    "    \n",
    "    \n",
    "\n",
    "    "
   ]
  },
  {
   "cell_type": "markdown",
   "id": "2c808c1c",
   "metadata": {},
   "source": [
    "h= int(input(\"marks obtained in hindi:  \"))\n",
    "e= int(input(\"marks obtained in english:  \"))\n",
    "m= int(input(\"marks obtained in math:  \"))\n",
    "s= int(input(\"marks obtained in science:  \"))\n",
    "sum= h+e+s+m\n",
    "print(sum)\n",
    "\n",
    "if(sum>=90):\n",
    "    print(\"ex\")\n",
    "elif(sum>=80 and sum<90):\n",
    "    print(A)\n",
    "elif(sum>=70 and sum<80):\n",
    "    print(B)\n",
    "elif(sum>=70 and sum<60):\n",
    "    print(C)\n",
    "elif(sum>=60 and sum<50):\n",
    "    print(D)\n",
    "else:\n",
    "    print(E)"
   ]
  },
  {
   "cell_type": "code",
   "execution_count": null,
   "id": "dc29f130",
   "metadata": {},
   "outputs": [],
   "source": [
    "sum=int(input('enter marks:   '))\n",
    "if sum>=90:\n",
    "      Grade= \"Ex\"\n",
    "elif sum>=80 and sum<90:\n",
    "       Grade= \"A\"\n",
    "elif sum>=70 and sum<80:\n",
    "       Grade= \"B\"\n",
    "elif sum>=70 and sum<60:\n",
    "    Grade= \"C\"\n",
    "elif sum>=60 and sum<50:\n",
    "    Grade= \"D\"\n",
    "else:\n",
    "    Grade= \"E\"\n",
    "print(\"your grade is:  \", Grade)"
   ]
  },
  {
   "cell_type": "code",
   "execution_count": 7,
   "id": "880da6e1",
   "metadata": {},
   "outputs": [
    {
     "name": "stdout",
     "output_type": "stream",
     "text": [
      "herry is a coder\n"
     ]
    }
   ],
   "source": [
    "a= input(\"\")\n"
   ]
  },
  {
   "cell_type": "code",
   "execution_count": 10,
   "id": "e2aa4173",
   "metadata": {},
   "outputs": [
    {
     "name": "stdout",
     "output_type": "stream",
     "text": [
      "True\n"
     ]
    }
   ],
   "source": [
    "print(\"Herry\" in a or \"herry\" in a or 'heRRy' in a or \"herrY\" in a or HeRrY in a or hErRy in a or 'hErry' in a or \"heRry\" in a)"
   ]
  },
  {
   "cell_type": "code",
   "execution_count": null,
   "id": "ab639a0a",
   "metadata": {},
   "outputs": [],
   "source": []
  }
 ],
 "metadata": {
  "kernelspec": {
   "display_name": "Python 3.9.4 64-bit",
   "language": "python",
   "name": "python394jvsc74a57bd021ffbdbc7f606897bf7df7737a4403e315ae1c5899d08142b73c25054fb42f1d"
  },
  "language_info": {
   "codemirror_mode": {
    "name": "ipython",
    "version": 3
   },
   "file_extension": ".py",
   "mimetype": "text/x-python",
   "name": "python",
   "nbconvert_exporter": "python",
   "pygments_lexer": "ipython3",
   "version": "3.9.4"
  }
 },
 "nbformat": 4,
 "nbformat_minor": 5
}
