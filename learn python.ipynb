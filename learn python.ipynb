{
 "cells": [
  {
   "cell_type": "code",
   "execution_count": 1,
   "id": "5ddfeb33",
   "metadata": {},
   "outputs": [
    {
     "name": "stdout",
     "output_type": "stream",
     "text": [
      "bhut Mazedar chij\n",
      "is a feeling\n",
      "[1, 2, 3, 4]\n",
      "{'kapde': 'cloths', 'harjas': {'father': [1, 2, 3, 4]}}\n",
      "dict_keys(['love', 'sex', 'aa', 'b'])\n"
     ]
    }
   ],
   "source": [
    "a= {\n",
    "    \"love\": \"is a feeling\",\n",
    "    \"sex\": \"bhut Mazedar chij\",\n",
    "\"aa\": {\"kapde\": \"cloths\",\n",
    "      \"harjas\":{\"father\":[1,2,3,4]}},\n",
    "    'b': [ 6, 5,7,3,7,8],\n",
    "    \n",
    "}\n",
    "\n",
    "print(a[\"sex\"])\n",
    "print(a[\"love\"])\n",
    "print(a[\"aa\"][\"harjas\"]['father'])\n",
    "type(a)\n",
    "a[\"b\"]:[45, 76]\n",
    "print(a[\"aa\"])\n",
    "print(a.keys())\n"
   ]
  },
  {
   "cell_type": "code",
   "execution_count": 2,
   "id": "91f7619a",
   "metadata": {},
   "outputs": [
    {
     "data": {
      "text/plain": [
       "['love', 'sex', 'aa', 'b']"
      ]
     },
     "execution_count": 2,
     "metadata": {},
     "output_type": "execute_result"
    }
   ],
   "source": [
    "list(a.keys())"
   ]
  },
  {
   "cell_type": "code",
   "execution_count": 4,
   "id": "c5ebd493",
   "metadata": {},
   "outputs": [
    {
     "name": "stdout",
     "output_type": "stream",
     "text": [
      "dict_items([('love', 'is a feeling'), ('sex', 'bhut Mazedar chij'), ('aa', {'kapde': 'cloths', 'harjas': {'father': [1, 2, 3, 4]}}), ('b', [6, 5, 7, 3, 7, 8])])\n"
     ]
    }
   ],
   "source": [
    "print(a.items())"
   ]
  },
  {
   "cell_type": "code",
   "execution_count": 19,
   "id": "50e5d037",
   "metadata": {
    "scrolled": true
   },
   "outputs": [
    {
     "name": "stdout",
     "output_type": "stream",
     "text": [
      "{'love': 'is a feeling', 'sex': 'hawas', 'aa': {'kapde': 'cloths', 'harjas': {'father': [1, 2, 3, 4]}}, 'b': [6, 5, 7, 3, 7, 8], 'book': 'kitab', 'punjab': 'gold', 'c': [56, 'owl', 'bird']}\n"
     ]
    }
   ],
   "source": [
    "a.update({\"sex\": \"hawas\",\n",
    "         \"book\": \"kitab\",\n",
    "          \"punjab\": \"gold\",\n",
    "          \"c\":[56, \"owl\", \"bird\"]\n",
    "         })\n",
    "print(a)"
   ]
  },
  {
   "cell_type": "markdown",
   "id": "8794ac6f",
   "metadata": {},
   "source": [
    "# tv is no present in dict. so return none"
   ]
  },
  {
   "cell_type": "code",
   "execution_count": 23,
   "id": "fc51f73d",
   "metadata": {},
   "outputs": [
    {
     "name": "stdout",
     "output_type": "stream",
     "text": [
      "None\n"
     ]
    }
   ],
   "source": [
    "print(a.get(\"tv\")) "
   ]
  },
  {
   "cell_type": "code",
   "execution_count": null,
   "id": "453c90d8",
   "metadata": {},
   "outputs": [],
   "source": [
    "  "
   ]
  }
 ],
 "metadata": {
  "kernelspec": {
   "display_name": "Python 3",
   "language": "python",
   "name": "python3"
  },
  "language_info": {
   "codemirror_mode": {
    "name": "ipython",
    "version": 3
   },
   "file_extension": ".py",
   "mimetype": "text/x-python",
   "name": "python",
   "nbconvert_exporter": "python",
   "pygments_lexer": "ipython3",
   "version": "3.9.4"
  }
 },
 "nbformat": 4,
 "nbformat_minor": 5
}
