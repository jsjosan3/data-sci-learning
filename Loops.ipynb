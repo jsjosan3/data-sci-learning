{
 "cells": [
  {
   "cell_type": "code",
   "execution_count": null,
   "id": "ace4579d",
   "metadata": {},
   "outputs": [],
   "source": [
    "a= int(0)"
   ]
  },
  {
   "cell_type": "code",
   "execution_count": null,
   "id": "5d85d174",
   "metadata": {},
   "outputs": [],
   "source": [
    "while a<5:\n",
    "    \n",
    "    print(\"hello\", a)\n",
    "    a= a+1\n",
    "print(\"bas kar bhai\")"
   ]
  },
  {
   "cell_type": "code",
   "execution_count": null,
   "id": "51102dd0",
   "metadata": {},
   "outputs": [],
   "source": [
    "b= int(1)\n",
    "while b<=50:\n",
    "    print(b)\n",
    "    b=b+1\n",
    "print(\"Ho gya bhai\")"
   ]
  },
  {
   "cell_type": "code",
   "execution_count": 1,
   "id": "1a9ef75a",
   "metadata": {},
   "outputs": [
    {
     "name": "stdout",
     "output_type": "stream",
     "text": [
      "45\n",
      "67\n",
      "89\n",
      "12\n",
      "23\n",
      "543\n",
      "67\n",
      "45\n",
      "23\n",
      "78\n"
     ]
    }
   ],
   "source": [
    "l1=[45,67,89,12,23,543,67,45,23,78]\n",
    "a=int(0)\n",
    "while a<len(l1):\n",
    "    print(l1[a])\n",
    "    a=a+1"
   ]
  },
  {
   "cell_type": "code",
   "execution_count": 2,
   "id": "b66fee84",
   "metadata": {},
   "outputs": [],
   "source": [
    "l2=[12,56,789,456,345,123,567,789,988,5576,3334,678,333456,456563456556,4566457456,6456,457]"
   ]
  },
  {
   "cell_type": "code",
   "execution_count": 62,
   "id": "c9449d6e",
   "metadata": {},
   "outputs": [
    {
     "name": "stdout",
     "output_type": "stream",
     "text": [
      "12\n",
      "56\n",
      "789\n",
      "456\n",
      "345\n",
      "123\n",
      "567\n",
      "789\n",
      "988\n",
      "5576\n",
      "3334\n",
      "678\n",
      "333456\n",
      "456563456556\n",
      "4566457456\n",
      "6456\n",
      "457\n",
      "velue fulfiled of for loop\n",
      "total items are: 17\n"
     ]
    }
   ],
   "source": [
    "for item in l2:\n",
    "    print(item)\n",
    "else:\n",
    "    print(\"velue fulfiled of for loop\")\n",
    "print(\"total items are:\", len(l2))\n"
   ]
  },
  {
   "cell_type": "code",
   "execution_count": 28,
   "id": "69b7c64e",
   "metadata": {},
   "outputs": [
    {
     "name": "stdout",
     "output_type": "stream",
     "text": [
      "1\n",
      "11\n",
      "21\n",
      "31\n",
      "41\n",
      "51\n",
      "61\n",
      "71\n",
      "81\n",
      "91\n",
      "101\n",
      "ab jo aap chahe wo print krwae\n"
     ]
    }
   ],
   "source": [
    "for velue in range(1, 102 ,10):\n",
    "    print(velue)\n",
    "else:\n",
    "    print(\"ab jo aap chahe wo print krwae\")"
   ]
  },
  {
   "cell_type": "code",
   "execution_count": 45,
   "id": "671d255a",
   "metadata": {},
   "outputs": [
    {
     "name": "stdout",
     "output_type": "stream",
     "text": [
      "1\n",
      "2\n",
      "3\n",
      "4\n",
      "5\n",
      "6\n",
      "7\n",
      "8\n"
     ]
    }
   ],
   "source": [
    "for velue in range(1,15):\n",
    "    print(velue)\n",
    "    if velue == 8:\n",
    "            break"
   ]
  },
  {
   "cell_type": "code",
   "execution_count": 61,
   "id": "f18a0d01",
   "metadata": {},
   "outputs": [
    {
     "name": "stdout",
     "output_type": "stream",
     "text": [
      "1\n",
      "2\n",
      "3\n",
      "4\n",
      "5\n",
      "6\n",
      "8\n",
      "9\n",
      "10\n",
      "11\n",
      "12\n",
      "13\n",
      "14\n"
     ]
    }
   ],
   "source": [
    "for velue in range(1,15):\n",
    "    \n",
    "    if velue == 7:\n",
    "           continue\n",
    "    print(velue)"
   ]
  },
  {
   "cell_type": "code",
   "execution_count": null,
   "id": "f659ec7a",
   "metadata": {},
   "outputs": [],
   "source": []
  }
 ],
 "metadata": {
  "kernelspec": {
   "display_name": "Python 3",
   "language": "python",
   "name": "python3"
  },
  "language_info": {
   "codemirror_mode": {
    "name": "ipython",
    "version": 3
   },
   "file_extension": ".py",
   "mimetype": "text/x-python",
   "name": "python",
   "nbconvert_exporter": "python",
   "pygments_lexer": "ipython3",
   "version": "3.9.4"
  }
 },
 "nbformat": 4,
 "nbformat_minor": 5
}
