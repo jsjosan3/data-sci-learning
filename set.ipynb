{
 "cells": [
  {
   "cell_type": "code",
   "execution_count": null,
   "id": "4a2ee86f",
   "metadata": {},
   "outputs": [],
   "source": []
  },
  {
   "cell_type": "markdown",
   "id": "849c8047",
   "metadata": {},
   "source": [
    "# set"
   ]
  },
  {
   "cell_type": "code",
   "execution_count": 2,
   "id": "e7a4ccc3",
   "metadata": {},
   "outputs": [
    {
     "name": "stdout",
     "output_type": "stream",
     "text": [
      "{0, 2, 4, 6, 7, 9}\n"
     ]
    },
    {
     "data": {
      "text/plain": [
       "set"
      ]
     },
     "execution_count": 2,
     "metadata": {},
     "output_type": "execute_result"
    }
   ],
   "source": [
    "a={4,6,7,4,6,9,0,2}\n",
    "print(a)\n",
    "type(a)"
   ]
  },
  {
   "cell_type": "markdown",
   "id": "2057d21b",
   "metadata": {},
   "source": [
    "# empety set"
   ]
  },
  {
   "cell_type": "code",
   "execution_count": 5,
   "id": "a2840a3f",
   "metadata": {},
   "outputs": [
    {
     "name": "stdout",
     "output_type": "stream",
     "text": [
      "set()\n"
     ]
    }
   ],
   "source": [
    "b=set()\n",
    "print(b)"
   ]
  },
  {
   "cell_type": "markdown",
   "id": "1960832a",
   "metadata": {},
   "source": [
    "Add velue in set"
   ]
  },
  {
   "cell_type": "code",
   "execution_count": 16,
   "id": "4ecdcb66",
   "metadata": {},
   "outputs": [
    {
     "name": "stdout",
     "output_type": "stream",
     "text": [
      "{1, 5, (8, 7, 3, 2), 8, 10, 12}\n"
     ]
    }
   ],
   "source": [
    "b.add(10)\n",
    "b.add(5)\n",
    "b.add(8)\n",
    "b.add(1)\n",
    "b.add(12)\n",
    "b.add((8,7,3,2))\n",
    "\n",
    "print(b)"
   ]
  },
  {
   "cell_type": "markdown",
   "id": "ed6165fd",
   "metadata": {},
   "source": [
    "length of set"
   ]
  },
  {
   "cell_type": "code",
   "execution_count": 20,
   "id": "815b239e",
   "metadata": {},
   "outputs": [
    {
     "data": {
      "text/plain": [
       "6"
      ]
     },
     "execution_count": 20,
     "metadata": {},
     "output_type": "execute_result"
    }
   ],
   "source": [
    "len(b)\n"
   ]
  },
  {
   "cell_type": "code",
   "execution_count": 28,
   "id": "981b7875",
   "metadata": {},
   "outputs": [
    {
     "name": "stdout",
     "output_type": "stream",
     "text": [
      "{1, (8, 7, 3, 2), 8, 12}\n"
     ]
    }
   ],
   "source": [
    "print(b)"
   ]
  },
  {
   "cell_type": "code",
   "execution_count": 29,
   "id": "14a220b9",
   "metadata": {},
   "outputs": [],
   "source": [
    "b.remove(8)"
   ]
  },
  {
   "cell_type": "code",
   "execution_count": 30,
   "id": "c47e1fba",
   "metadata": {},
   "outputs": [
    {
     "name": "stdout",
     "output_type": "stream",
     "text": [
      "{1, (8, 7, 3, 2), 12}\n"
     ]
    }
   ],
   "source": [
    "print(b)"
   ]
  },
  {
   "cell_type": "code",
   "execution_count": 31,
   "id": "73475c70",
   "metadata": {},
   "outputs": [],
   "source": [
    "c= {4, 6, 8,9,0,6,7,8,4,5 ,6,3,6,8}"
   ]
  },
  {
   "cell_type": "code",
   "execution_count": 39,
   "id": "58d100e3",
   "metadata": {},
   "outputs": [
    {
     "name": "stdout",
     "output_type": "stream",
     "text": [
      "{4, 5, 6, 7, 8, 9}\n"
     ]
    }
   ],
   "source": [
    "print(c)"
   ]
  },
  {
   "cell_type": "code",
   "execution_count": 40,
   "id": "c06e63d8",
   "metadata": {},
   "outputs": [],
   "source": [
    "c.remove(8)"
   ]
  },
  {
   "cell_type": "code",
   "execution_count": 41,
   "id": "3f662b6c",
   "metadata": {},
   "outputs": [
    {
     "name": "stdout",
     "output_type": "stream",
     "text": [
      "{4, 5, 6, 7, 9}\n"
     ]
    }
   ],
   "source": [
    "print(c)"
   ]
  },
  {
   "cell_type": "code",
   "execution_count": null,
   "id": "e9495708",
   "metadata": {},
   "outputs": [],
   "source": []
  }
 ],
 "metadata": {
  "kernelspec": {
   "display_name": "Python 3",
   "language": "python",
   "name": "python3"
  },
  "language_info": {
   "codemirror_mode": {
    "name": "ipython",
    "version": 3
   },
   "file_extension": ".py",
   "mimetype": "text/x-python",
   "name": "python",
   "nbconvert_exporter": "python",
   "pygments_lexer": "ipython3",
   "version": "3.9.4"
  }
 },
 "nbformat": 4,
 "nbformat_minor": 5
}
