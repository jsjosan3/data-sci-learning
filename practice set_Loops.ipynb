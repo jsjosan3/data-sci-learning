{
 "cells": [
  {
   "cell_type": "code",
   "execution_count": 18,
   "id": "f2814152",
   "metadata": {},
   "outputs": [
    {
     "name": "stdout",
     "output_type": "stream",
     "text": [
      "4\n",
      "8\n",
      "12\n",
      "16\n",
      "20\n",
      "24\n",
      "28\n",
      "32\n",
      "36\n",
      "40\n"
     ]
    }
   ],
   "source": [
    "a=int(input())\n",
    "for table in range(a,a*11,a):\n",
    "    if table== a: \n",
    "        continue\n",
    "    print(table)"
   ]
  },
  {
   "cell_type": "code",
   "execution_count": 20,
   "id": "5c16d02c",
   "metadata": {},
   "outputs": [
    {
     "name": "stdout",
     "output_type": "stream",
     "text": [
      "[40]\n"
     ]
    }
   ],
   "source": [
    "t=[table]\n",
    "t.reverse()\n",
    "print(t)"
   ]
  },
  {
   "cell_type": "code",
   "execution_count": null,
   "id": "8d84468f",
   "metadata": {},
   "outputs": [],
   "source": [
    "l1= ['Lovely', \"komal\", \"sunny\", \"Harjas\"]\n",
    "for name in l1:\n",
    "    print(\"Hello\", name)"
   ]
  },
  {
   "cell_type": "code",
   "execution_count": null,
   "id": "8efbdecd",
   "metadata": {},
   "outputs": [],
   "source": [
    "fl=input(\"enter first capital letter of your name:  \")\n",
    "l1= ['Lovely', \"Komal\", \"Sunny\", \"Harjas\"]\n",
    "for name in l1:\n",
    "    if name.startswith(fl):\n",
    "        print(\"Hello\", name)"
   ]
  },
  {
   "cell_type": "code",
   "execution_count": null,
   "id": "9769f48a",
   "metadata": {},
   "outputs": [],
   "source": []
  },
  {
   "cell_type": "code",
   "execution_count": null,
   "id": "0d197409",
   "metadata": {},
   "outputs": [],
   "source": [
    "a=int(input())\n",
    "i=int(a)\n",
    "while (i<a*10):\n",
    "        i=i+a\n",
    "        print(i)\n",
    "    "
   ]
  },
  {
   "cell_type": "code",
   "execution_count": null,
   "id": "35bc1fe2",
   "metadata": {},
   "outputs": [],
   "source": [
    "a=int(input(\"enter a number: \"))\n",
    "prime= True\n",
    "for i in range(2, a):\n",
    "        if(a%i==0):\n",
    "            prime= False\n",
    "            break\n",
    "if prime:\n",
    "    print(\"prime\")\n",
    "else:\n",
    "    print(\"not prime\")\n",
    "        \n",
    "\n"
   ]
  },
  {
   "cell_type": "code",
   "execution_count": null,
   "id": "f3bb9f3b",
   "metadata": {},
   "outputs": [],
   "source": [
    "a=int(input(\"enter a number: \"))\n",
    "addition=int(0)\n",
    "for love in range(0,a+1):\n",
    "    addition=addition+love\n",
    "print(f\"Addition of first {a} netural number is: {addition} \")"
   ]
  },
  {
   "cell_type": "code",
   "execution_count": null,
   "id": "ba15e2de",
   "metadata": {},
   "outputs": [],
   "source": [
    "a=int(input(\"enter a number: \"))\n",
    "fact=int(1)\n",
    "for f in range(1,a+1):\n",
    "    fact=fact*f\n",
    "print(f\"Factorial of {a} is: {fact} \")"
   ]
  },
  {
   "cell_type": "code",
   "execution_count": null,
   "id": "fe3e002d",
   "metadata": {},
   "outputs": [],
   "source": [
    "c=int(input())\n",
    "for velue in range(c):\n",
    "    print(\"*\"*(velue+1))\n",
    "#here velue is in b/w 0:4 (01234)"
   ]
  },
  {
   "cell_type": "code",
   "execution_count": 1,
   "id": "19fae10b",
   "metadata": {},
   "outputs": [
    {
     "name": "stdout",
     "output_type": "stream",
     "text": [
      "*\n",
      "**\n",
      "***\n"
     ]
    }
   ],
   "source": [
    "for velue in range(3):\n",
    " print(\"*\"*( velue+1 ))"
   ]
  },
  {
   "cell_type": "code",
   "execution_count": 4,
   "id": "1bf61301",
   "metadata": {},
   "outputs": [
    {
     "name": "stdout",
     "output_type": "stream",
     "text": [
      "3\n",
      "  \n",
      "*\n",
      "  \n",
      "   \n",
      "***\n",
      "   \n",
      "    \n",
      "*****\n",
      "    \n"
     ]
    }
   ],
   "source": [
    "n=int(input())\n",
    "for v in range(n):\n",
    "    print(\" \"*(n+v-1), )\n",
    "    print(\"*\"*(2*v+1), )\n",
    "    print(\" \"*(n+v-1))\n",
    "    "
   ]
  },
  {
   "cell_type": "code",
   "execution_count": null,
   "id": "54d4d0e8",
   "metadata": {},
   "outputs": [],
   "source": []
  },
  {
   "cell_type": "code",
   "execution_count": null,
   "id": "e60a01de",
   "metadata": {},
   "outputs": [],
   "source": []
  }
 ],
 "metadata": {
  "kernelspec": {
   "display_name": "Python 3",
   "language": "python",
   "name": "python3"
  },
  "language_info": {
   "codemirror_mode": {
    "name": "ipython",
    "version": 3
   },
   "file_extension": ".py",
   "mimetype": "text/x-python",
   "name": "python",
   "nbconvert_exporter": "python",
   "pygments_lexer": "ipython3",
   "version": "3.9.4"
  }
 },
 "nbformat": 4,
 "nbformat_minor": 5
}
