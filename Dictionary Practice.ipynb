{
 "cells": [
  {
   "cell_type": "code",
   "execution_count": null,
   "id": "47fce68d",
   "metadata": {},
   "outputs": [],
   "source": [
    "\n"
   ]
  },
  {
   "cell_type": "code",
   "execution_count": 1,
   "id": "4040167f",
   "metadata": {},
   "outputs": [
    {
     "name": "stdout",
     "output_type": "stream",
     "text": [
      "lovely enter your lenguage:  hin\n",
      "komal enter your lenguage:  eng\n",
      "harjas enter your lenguage:  pun\n",
      "sunny enter your lenguage:  sci\n",
      "{'lovely': ('hin',), 'komal': ('eng',), 'harjas': ('pun',), 'sunny': ('sci',)}\n"
     ]
    }
   ],
   "source": [
    "\n",
    "dict={}\n",
    "a= input(\"lovely enter your lenguage:  \"),\n",
    "b= input(\"komal enter your lenguage:  \"),\n",
    "c= input(\"harjas enter your lenguage:  \"),\n",
    "d= input(\"sunny enter your lenguage:  \"),\n",
    "dict[\"lovely\"]=a\n",
    "dict[\"komal\"]=b\n",
    "dict[\"harjas\"]=c\n",
    "dict[\"sunny\"]=d\n",
    "print(dict)"
   ]
  },
  {
   "cell_type": "code",
   "execution_count": null,
   "id": "fecac460",
   "metadata": {},
   "outputs": [],
   "source": []
  },
  {
   "cell_type": "code",
   "execution_count": null,
   "id": "4804e31d",
   "metadata": {},
   "outputs": [],
   "source": [
    "\n",
    "\n"
   ]
  },
  {
   "cell_type": "code",
   "execution_count": 2,
   "id": "c25fb65b",
   "metadata": {},
   "outputs": [
    {
     "name": "stdout",
     "output_type": "stream",
     "text": [
      "lovely enter your lenguage:  hin\n",
      "komal enter your lenguage:  eng\n",
      "harjas enter your lenguage:  pun\n",
      "sunny enter your lenguage:  japn\n"
     ]
    }
   ],
   "source": [
    "a= input(\"lovely enter your lenguage:  \"),\n",
    "b= input(\"komal enter your lenguage:  \"),\n",
    "c= input(\"harjas enter your lenguage:  \"),\n",
    "d= input(\"sunny enter your lenguage:  \"),\n",
    "dict = {\"lovely\":a,\n",
    "       \"komal\": b,\n",
    "       \"harjas\":c,\n",
    "       \"sunny\": d,\n",
    "       }\n",
    "hin"
   ]
  },
  {
   "cell_type": "code",
   "execution_count": 3,
   "id": "441674c9",
   "metadata": {},
   "outputs": [
    {
     "name": "stdout",
     "output_type": "stream",
     "text": [
      "{'lovely': ('hin',), 'komal': ('eng',), 'harjas': ('pun',), 'sunny': ('japn',)}\n"
     ]
    }
   ],
   "source": [
    "print(dict)"
   ]
  },
  {
   "cell_type": "code",
   "execution_count": 4,
   "id": "5609dfae",
   "metadata": {},
   "outputs": [
    {
     "name": "stdout",
     "output_type": "stream",
     "text": [
      "{'lovely': ('hin',), 'komal': ('eng',), 'harjas': ('pun',), 'sunny': ('japn',)}\n"
     ]
    }
   ],
   "source": [
    "print(dict)"
   ]
  },
  {
   "cell_type": "code",
   "execution_count": 5,
   "id": "cd4ad4a8",
   "metadata": {},
   "outputs": [
    {
     "name": "stdout",
     "output_type": "stream",
     "text": [
      "('eng',)\n"
     ]
    }
   ],
   "source": [
    "print(dict[\"komal\"])"
   ]
  },
  {
   "cell_type": "code",
   "execution_count": 6,
   "id": "9f052c95",
   "metadata": {},
   "outputs": [
    {
     "name": "stdout",
     "output_type": "stream",
     "text": [
      "{'lovely': ('hin',), 'komal': ('eng',), 'harjas': ('pun',), 'sunny': ('japn',)}\n"
     ]
    }
   ],
   "source": [
    "print(dict)"
   ]
  },
  {
   "cell_type": "code",
   "execution_count": 7,
   "id": "a315b6cc",
   "metadata": {},
   "outputs": [
    {
     "name": "stdout",
     "output_type": "stream",
     "text": [
      "preet enter your language:  germany\n"
     ]
    }
   ],
   "source": [
    "e= input(\"preet enter your language:  \")"
   ]
  },
  {
   "cell_type": "code",
   "execution_count": 8,
   "id": "44bce5a6",
   "metadata": {},
   "outputs": [],
   "source": [
    "dict.update({\"preet\":e})"
   ]
  },
  {
   "cell_type": "code",
   "execution_count": 18,
   "id": "8b9a135f",
   "metadata": {},
   "outputs": [
    {
     "name": "stdout",
     "output_type": "stream",
     "text": [
      "germany\n"
     ]
    }
   ],
   "source": [
    "print(dict[\"preet\"])"
   ]
  },
  {
   "cell_type": "code",
   "execution_count": 19,
   "id": "ceae76ec",
   "metadata": {},
   "outputs": [
    {
     "name": "stdout",
     "output_type": "stream",
     "text": [
      "{'lovely': ('hin',), 'komal': ('eng',), 'harjas': ('pun',), 'sunny': ('japn',), 'preet': 'germany'}\n"
     ]
    }
   ],
   "source": [
    "print(dict)"
   ]
  },
  {
   "cell_type": "code",
   "execution_count": null,
   "id": "11663f1d",
   "metadata": {},
   "outputs": [],
   "source": []
  },
  {
   "cell_type": "code",
   "execution_count": null,
   "id": "5903ed01",
   "metadata": {},
   "outputs": [],
   "source": []
  },
  {
   "cell_type": "code",
   "execution_count": null,
   "id": "0f514d12",
   "metadata": {},
   "outputs": [],
   "source": []
  }
 ],
 "metadata": {
  "kernelspec": {
   "display_name": "Python 3.9.4 64-bit",
   "language": "python",
   "name": "python394jvsc74a57bd021ffbdbc7f606897bf7df7737a4403e315ae1c5899d08142b73c25054fb42f1d"
  },
  "language_info": {
   "codemirror_mode": {
    "name": "ipython",
    "version": 3
   },
   "file_extension": ".py",
   "mimetype": "text/x-python",
   "name": "python",
   "nbconvert_exporter": "python",
   "pygments_lexer": "ipython3",
   "version": "3.9.4"
  }
 },
 "nbformat": 4,
 "nbformat_minor": 5
}
